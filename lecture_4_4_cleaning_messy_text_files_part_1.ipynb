{
 "cells": [
  {
   "cell_type": "markdown",
   "metadata": {},
   "source": [
    "# Lecture 4.4 - Basics of cleaning messy text files \n",
    "## Part 1 - Getting the know the file and removing unwanted lines\n",
    "\n",
    "In this lecture, we will go over a number of cases of messy data, and how to use Python to fix these problems.  This includes\n",
    "\n",
    "1. Use VSCode to inspect the file and identify problems.\n",
    "1. Removing unwanted lines."
   ]
  },
  {
   "cell_type": "markdown",
   "metadata": {},
   "source": [
    "## Example - 9/11 Deaths \n",
    "\n",
    "I have included a file named `911_Deaths.csv`.  Download this file from D2L and open it in VScode.  Be sure to turn on **View > Render Whitespace**, which I find useful when working with messy data."
   ]
  },
  {
   "cell_type": "markdown",
   "metadata": {},
   "source": [
    "> Information on different lines\n",
    "> Appears to have page numbers\n",
    "> "
   ]
  },
  {
   "cell_type": "markdown",
   "metadata": {},
   "source": [
    "## Reading in the lines of the file\n",
    "\n",
    "I have included a file named `911_Deaths.csv`.  Open this file and split the body into a list called `lines`."
   ]
  },
  {
   "cell_type": "code",
   "execution_count": 26,
   "metadata": {},
   "outputs": [
    {
     "data": {
      "text/plain": [
       "['Gordon M. Aamoth, Jr.',\n",
       " ' 32',\n",
       " \" Sandler O'Neill + Partners, World Trade Center.\",\n",
       " 'Edelmiro Abad',\n",
       " ' 54',\n",
       " ' Brooklyn, N.Y., Fiduciary Trust Company International, World Trade Center.',\n",
       " 'Marie Rose Abad',\n",
       " ' 49',\n",
       " ' Keefe, Bruyette&Woods, Inc., World Trade Center.',\n",
       " 'Andrew Anthony Abate',\n",
       " ' 37',\n",
       " ' Melville, N.Y., Cantor Fitzgerald, World Trade Center.',\n",
       " 'Vincent Paul Abate',\n",
       " ' 40',\n",
       " ' Brooklyn, N.Y., Cantor Fitzgerald, World Trade Center.',\n",
       " 'Laurence Christopher Abel',\n",
       " ' 37',\n",
       " ' New York City, Cantor Fitzgerald, World Trade Center.',\n",
       " 'Alona Abraham',\n",
       " ' 30',\n",
       " ' Ashdod, Israel, Passenger, United 175, World Trade Center.',\n",
       " 'William F. Abrahamson',\n",
       " ' 55',\n",
       " ' Westchester County, N.Y., Marsh&McLennan Companies, Inc., World Trade Center.',\n",
       " 'Richard Anthony Aceto',\n",
       " ' 42',\n",
       " ' Marsh&McLennan Companies, Inc., World Trade Center.',\n",
       " 'Heinrich Bernhard Ackermann',\n",
       " ' 38',\n",
       " ' Aon Corporation, World Trade Center.',\n",
       " 'Paul Acquaviva',\n",
       " ' 29',\n",
       " ' Glen Rock, N.J., Cantor Fitzgerald, World Trade Center.',\n",
       " 'Christian Adams',\n",
       " ' 37',\n",
       " ' Passenger, United 93, Shanksville, Pa.',\n",
       " 'Donald LaRoy Adams',\n",
       " ' 28',\n",
       " ' Cantor Fitzgerald, World Trade Center.',\n",
       " 'Patrick Adams',\n",
       " ' 61',\n",
       " ' Fuji Bank, Ltd. security, World Trade Center.',\n",
       " 'Shannon Lewis Adams',\n",
       " ' 25',\n",
       " ' Cantor Fitzgerald, World Trade Center.',\n",
       " 'Stephen George Adams',\n",
       " ' 51',\n",
       " ' New York City, Windows on the World, World Trade Center.',\n",
       " 'Ignatius Udo Adanga',\n",
       " ' 62',\n",
       " ' Bronx, N.Y., New York Metropolitan Transportation Council, World Trade Center.',\n",
       " 'Christy A. Addamo',\n",
       " ' 28',\n",
       " ' New Hyde Park, N.Y., Marsh&McLennan Companies, Inc., World Trade Center.',\n",
       " 'Terence Edward Adderley, Jr.',\n",
       " ' 22',\n",
       " ' New York City, Fred Alger Management, Inc., World Trade Center.',\n",
       " 'Sophia B. Addo',\n",
       " ' 36',\n",
       " ' Bronx, N.Y., Windows on the World, World Trade Center.',\n",
       " 'Lee Adler',\n",
       " ' 48',\n",
       " ' Cantor Fitzgerald, World Trade Center.',\n",
       " 'Daniel Thomas Afflitto',\n",
       " ' 32',\n",
       " ' Manalapan, N.J., Cantor Fitzgerald, World Trade Center.',\n",
       " 'Emmanuel Akwasi Afuakwah',\n",
       " ' 37',\n",
       " ' Windows on the World, World Trade Center.',\n",
       " 'Alok Agarwal',\n",
       " ' 36',\n",
       " ' Cantor Fitzgerald, World Trade Center.',\n",
       " 'Mukul Kumar Agarwala',\n",
       " ' 37',\n",
       " ' Fiduciary Trust Company International, World Trade Center.',\n",
       " 'Joseph Agnello',\n",
       " ' 35',\n",
       " ' Belle Harbor, N.Y., New York City Fire Department, World Trade Center.',\n",
       " 'David Scott Agnes',\n",
       " ' 46',\n",
       " ' Port Washington, N.Y., Cantor Fitzgerald, World Trade Center.',\n",
       " 'Joao Alberto da Fonseca Aguiar, Jr.',\n",
       " ' 30',\n",
       " ' Hoboken, N.J., Keefe, Bruyette&Woods, Inc., World Trade Center.',\n",
       " 'Brian G. Ahearn',\n",
       " ' 43',\n",
       " ' Huntington, N.Y., New York City Fire Department, World Trade Center.',\n",
       " 'Jeremiah Joseph Ahern',\n",
       " ' 74',\n",
       " ' New Jersey, New York State Department of Taxation and Finance, World Trade Center.',\n",
       " 'Joanne Marie Ahladiotis',\n",
       " ' 27',\n",
       " ' Forest Hills, N.Y., Cantor Fitzgerald, World Trade Center.',\n",
       " 'Shabbir Ahmed',\n",
       " ' 47',\n",
       " ' Brooklyn, N.Y., Windows on the World, World Trade Center.',\n",
       " 'Terrance Andre Aiken',\n",
       " ' 30',\n",
       " ' Marsh&McLennan consultant, World Trade Center.',\n",
       " '',\n",
       " '',\n",
       " '\\t\\t\\t\\t\\t\\t\\t\\t\\t\\t1 of 91',\n",
       " '',\n",
       " '',\n",
       " 'Godwin O. Ajala',\n",
       " ' 33',\n",
       " ' Summit Security Services, Inc., World Trade Center, died 9/15/01.',\n",
       " 'Trudi M. Alagero',\n",
       " ' 37',\n",
       " ' New York City, Marsh&McLennan Companies, Inc., World Trade Center.',\n",
       " 'Andrew Alameno',\n",
       " ' 37',\n",
       " ' Westfield, N.J., Cantor Fitzgerald, World Trade Center.',\n",
       " 'Margaret Ann Alario',\n",
       " ' 41',\n",
       " ' Staten Island, N.Y., Aon Corporation visitor from Zurich Financial Services, World Trade Center.',\n",
       " 'Gary M. Albero',\n",
       " ' 39',\n",
       " ' Emerson, N.J., Aon Corporation, World Trade Center.',\n",
       " 'Jon Leslie Albert',\n",
       " ' 46',\n",
       " ' Upper Nyack, N.Y., Marsh&McLennan Companies, Inc., World Trade Center.',\n",
       " 'Peter Craig Alderman',\n",
       " ' 25',\n",
       " ' New York City, Risk Waters Group conference attendee from Bloomberg L.P., World Trade Center.',\n",
       " 'Jacquelyn Delaine Aldridge-Frederick',\n",
       " ' 46',\n",
       " ' Staten Island, N.Y., Marsh&McLennan Companies, Inc., World Trade Center.',\n",
       " 'David D. Alger',\n",
       " ' 57',\n",
       " ' New York City, Fred Alger Management, Inc., World Trade Center.',\n",
       " 'Ernest Alikakos',\n",
       " ' 43',\n",
       " ' Brooklyn, N.Y., New York State Department of Taxation and Finance, World Trade Center.',\n",
       " 'Edward L. Allegretto',\n",
       " ' 51',\n",
       " ' Cantor Fitzgerald, World Trade Center.',\n",
       " 'Eric Allen',\n",
       " ' 44',\n",
       " ' Brooklyn, N.Y., New York City Fire Department, World Trade Center.',\n",
       " 'Joseph Ryan Allen',\n",
       " ' 39',\n",
       " ' Cantor Fitzgerald, World Trade Center.',\n",
       " 'Richard Dennis Allen',\n",
       " ' 31',\n",
       " ' Rockaway Beach, N.Y., New York City Fire Department, World Trade Center.',\n",
       " 'Richard L. Allen',\n",
       " ' 30',\n",
       " ' Brooklyn, N.Y., Marsh&McLennan Companies, Inc., World Trade Center.',\n",
       " 'Christopher E. Allingham',\n",
       " ' 36',\n",
       " ' River Edge, N.J., Cantor Fitzgerald, World Trade Center.',\n",
       " 'Anna S. W. Allison',\n",
       " ' 48',\n",
       " ' Stoneham, Mass., Passenger, United 11, World Trade Center.',\n",
       " 'Janet Marie Alonso',\n",
       " ' 41',\n",
       " ' Stony Point, N.Y., Marsh&McLennan Companies, Inc., World Trade Center.',\n",
       " 'Anthony Alvarado',\n",
       " ' 31',\n",
       " ' Cantor Fitzgerald, Forte Food Service, World Trade Center.',\n",
       " 'Antonio Javier Alvarez',\n",
       " ' 23',\n",
       " ' Windows on the World, World Trade Center.',\n",
       " 'Victoria Alvarez-Brito',\n",
       " ' 38',\n",
       " ' Queens, N.Y., Marsh&McLennan Companies, Inc., World Trade Center.',\n",
       " 'Telmo E. Alvear',\n",
       " ' 25',\n",
       " ' Windows on the World, World Trade Center.',\n",
       " 'Cesar Amoranto Alviar',\n",
       " ' 60',\n",
       " ' Marsh&McLennan Companies, Inc., World Trade Center.',\n",
       " 'Tariq Amanullah',\n",
       " ' 40',\n",
       " ' Fiduciary Trust Company International, World Trade Center.',\n",
       " 'Angelo Amaranto',\n",
       " ' 60',\n",
       " ' ABM Industries Inc., World Trade Center.',\n",
       " 'James M. Amato',\n",
       " ' 43',\n",
       " ' New York City Fire Department, World Trade Center.',\n",
       " 'Joseph Amatuccio',\n",
       " ' 41',\n",
       " ' Port Authority of New York and New Jersey first responders, World Trade Center.',\n",
       " 'Paul W. Ambrose',\n",
       " ' 32',\n",
       " ' Washington, D.C., Passenger, American 77, Pentagon.',\n",
       " 'Christopher Charles Amoroso',\n",
       " ' 29',\n",
       " ' Port Authority Police Department, World Trade Center.',\n",
       " 'Craig Scott Amundson',\n",
       " ' 28',\n",
       " ' Fort Belvoir, Va., United States Army, Pentagon.',\n",
       " 'Kazuhiro Anai',\n",
       " ' 42',\n",
       " ' Scarsdale, N.Y., Nishi-Nippon Bank, Ltd., World Trade Center.',\n",
       " 'Calixto Anaya, Jr.',\n",
       " ' 35',\n",
       " ' Suffern, N.Y., New York City Fire Department, World Trade Center.',\n",
       " 'Joseph P. Anchundia',\n",
       " ' 26',\n",
       " \" New York City, Sandler O'Neill + Partners, World Trade Center.\",\n",
       " '',\n",
       " '',\n",
       " '\\t\\t\\t\\t\\t\\t\\t\\t\\t\\t2 of 91',\n",
       " '',\n",
       " '',\n",
       " 'Kermit Charles Anderson',\n",
       " ' 57',\n",
       " ' Green Brook, N.J., Marsh&McLennan Companies, Inc., World Trade Center.',\n",
       " 'Yvette Constance Anderson',\n",
       " ' 53',\n",
       " ' New York City, New York State Department of Taxation and Finance, World Trade Center.',\n",
       " 'John Jack Andreacchio',\n",
       " ' 52',\n",
       " ' Brooklyn, N.Y., Fuji Bank, Ltd., World Trade Center.',\n",
       " 'Michael Rourke Andrews',\n",
       " ' 34',\n",
       " ' Cantor Fitzgerald, World Trade Center.',\n",
       " 'Jean Ann Andrucki',\n",
       " ' 43',\n",
       " ' Hoboken, N.J., Port Authority of New York and New Jersey, World Trade Center.',\n",
       " 'Siew-Nya Ang',\n",
       " ' 37',\n",
       " ' Marsh&McLennan Companies, Inc., World Trade Center.',\n",
       " 'Joseph Angelini, Sr.',\n",
       " ' 63',\n",
       " ' Lindenhurst, N.Y., New York City Fire Department, World Trade Center.',\n",
       " 'Joseph John Angelini, Jr.',\n",
       " ' 38',\n",
       " ' Lindenhurst, N.Y., New York City Fire Department, World Trade Center.',\n",
       " 'David Lawrence Angell',\n",
       " ' 54',\n",
       " ' Providence, R.I., Passenger, United 11, World Trade Center.',\n",
       " 'Mary Lynn Edwards Angell',\n",
       " ' 52',\n",
       " ' Cape Cod, Mass. and Pasadena, Calif., Passenger, United 11, World Trade Center.',\n",
       " 'Laura Angilletta',\n",
       " ' 23',\n",
       " ' Staten Island, N.Y., Cantor Fitzgerald, World Trade Center.',\n",
       " 'Doreen J. Angrisani',\n",
       " ' 44',\n",
       " ' Ridgewood, N.Y., Marsh&McLennan Companies, Inc., World Trade Center.',\n",
       " 'Lorraine Antigua',\n",
       " ' 32',\n",
       " ' Middletown, N.J., Cantor Fitzgerald, World Trade Center.',\n",
       " 'Seima David Aoyama',\n",
       " ' 48',\n",
       " ' Los Angeles, Calif., Passenger, United 11, World Trade Center.',\n",
       " 'Peter Paul Apollo',\n",
       " ' 26',\n",
       " ' Hoboken, N.J., Cantor Fitzgerald, World Trade Center.',\n",
       " 'Faustino Apostol, Jr.',\n",
       " ' 55',\n",
       " ' Staten Island, N.Y., New York City Fire Department, World Trade Center.',\n",
       " 'Frank Thomas Aquilino',\n",
       " ' 26',\n",
       " ' Staten Island, N.Y., Cantor Fitzgerald, World Trade Center.',\n",
       " 'Patrick Michael Aranyos',\n",
       " ' 26',\n",
       " ' New York City, Euro Brokers, World Trade Center.',\n",
       " 'David Gregory Arce',\n",
       " ' 36',\n",
       " ' New York City Fire Department, World Trade Center.',\n",
       " 'Michael George Arczynski',\n",
       " ' 45',\n",
       " ' New Jersey, Aon Corporation, World Trade Center.',\n",
       " 'Louis Arena',\n",
       " ' 32',\n",
       " ' Staten Island, N.Y., New York City Fire Department, World Trade Center.',\n",
       " 'Barbara Jean Arestegui',\n",
       " ' 38',\n",
       " ' Marstons Mills, Mass. and Hawthorne, Calif., Flight Crew, United 11, World Trade Center.',\n",
       " 'Adam P. Arias',\n",
       " ' 37',\n",
       " ' Staten Island, N.Y., Euro Brokers, World Trade Center.',\n",
       " 'Michael J. Armstrong',\n",
       " ' 34',\n",
       " ' New York City, Cantor Fitzgerald, World Trade Center.',\n",
       " 'Jack Charles Aron',\n",
       " ' 52',\n",
       " ' Bergenfield, N.J., Marsh&McLennan Companies, Inc., World Trade Center.',\n",
       " 'Joshua Todd Aron',\n",
       " ' 29',\n",
       " ' New York City, Cantor Fitzgerald, World Trade Center.',\n",
       " 'Richard Avery Aronow',\n",
       " ' 48',\n",
       " ' Mahwah, N.J., Port Authority of New York and New Jersey, World Trade Center.',\n",
       " 'Myra Joy Aronson',\n",
       " ' 50',\n",
       " ' Charlestown, Mass., Passenger, United 11, World Trade Center.',\n",
       " 'Japhet Jesse Aryee',\n",
       " ' 49',\n",
       " ' New York State Department of Taxation and Finance, World Trade Center.',\n",
       " 'Carl Francis Asaro',\n",
       " ' 37',\n",
       " ' Middletown, N.Y., New York City Fire Department, World Trade Center.',\n",
       " 'Michael A. Asciak',\n",
       " ' 47',\n",
       " ' Ridgefield, N.J., Carr Futures, Inc., World Trade Center.',\n",
       " 'Michael Edward Asher',\n",
       " ' 53',\n",
       " ' Monroe, N.Y., Cantor Fitzgerald, World Trade Center.',\n",
       " 'Janice Marie Ashley',\n",
       " ' 25',\n",
       " ' Rockville Centre, N.Y., Fred Alger Management, Inc., World Trade Center.',\n",
       " '',\n",
       " '',\n",
       " '\\t\\t\\t\\t\\t\\t\\t\\t\\t\\t3 of 91',\n",
       " '',\n",
       " '',\n",
       " 'Thomas J. Ashton',\n",
       " ' 21',\n",
       " ' Woodside, N.Y., Marsh&McLennan contractor from Denino Electric Construction Corp., International Brotherhood of Electrical Workers, World Trade Center.',\n",
       " 'Manuel O. Asitimbay',\n",
       " ' 35',\n",
       " ' Brooklyn, N.Y., Windows on the World, World Trade Center.',\n",
       " 'Gregg A. Atlas',\n",
       " ' 44',\n",
       " ' Howells, N.Y., New York City Fire Department, World Trade Center.',\n",
       " 'Gerald Thomas Atwood',\n",
       " ' 38',\n",
       " ' Brooklyn, N.Y., New York City Fire Department, World Trade Center.',\n",
       " 'James Audiffred',\n",
       " ' 38',\n",
       " ' ABM Industries Inc., World Trade Center.',\n",
       " 'Louis F. Aversano, Jr.',\n",
       " ' 58',\n",
       " ' Manalapan, N.J., Aon Corporation, World Trade Center.',\n",
       " 'Ezra Aviles',\n",
       " ' 41',\n",
       " ' Commack, N.Y., Port Authority of New York and New Jersey, World Trade Center.',\n",
       " 'Sandy Ayala',\n",
       " ' 36',\n",
       " ' Windows on the World, World Trade Center.',\n",
       " 'Arlene T. Babakitis',\n",
       " ' 47',\n",
       " ' Port Authority of New York and New Jersey, World Trade Center.',\n",
       " 'Eustace R. Bacchus',\n",
       " ' 48',\n",
       " ' Metuchen, N.J., Windows on the World visitor, World Trade Center.',\n",
       " 'John J. Badagliacca',\n",
       " ' 35',\n",
       " ' Staten Island, N.Y., Cantor Fitzgerald, World Trade Center.',\n",
       " 'Jane Ellen Baeszler',\n",
       " ' 43',\n",
       " ' Staten Island, N.Y., Cantor Fitzgerald, World Trade Center.',\n",
       " 'Robert J. Baierwalter',\n",
       " ' 44',\n",
       " ' Albertson, N.Y., Aon Corporation visitor from FM Global, World Trade Center.',\n",
       " 'Andrew J. Bailey',\n",
       " ' 29',\n",
       " ' Queens, N.Y., Marsh&McLennan Companies, Inc., World Trade Center.',\n",
       " 'Brett T. Bailey',\n",
       " ' 28',\n",
       " ' New York City, Euro Brokers, World Trade Center.',\n",
       " 'Garnet Ace Bailey',\n",
       " ' 53',\n",
       " ' Lynnfield, Mass., Passenger, United 175, World Trade Center.',\n",
       " 'Tatyana Bakalinskaya',\n",
       " ' 43',\n",
       " ' Marsh&McLennan consultant, World Trade Center.',\n",
       " 'Michael S. Baksh',\n",
       " ' 36',\n",
       " ' Marsh&McLennan Companies, Inc., World Trade Center.',\n",
       " 'Sharon M. Balkcom',\n",
       " ' 43',\n",
       " ' White Plains, N.Y., Marsh&McLennan Companies, Inc., World Trade Center.',\n",
       " 'Michael Andrew Bane',\n",
       " ' 33',\n",
       " ' Marsh&McLennan Companies, Inc., World Trade Center.',\n",
       " 'Katherine Bantis',\n",
       " ' 44',\n",
       " ' Marsh&McLennan Companies, Inc., World Trade Center.',\n",
       " 'Gerard Baptiste',\n",
       " ' 35',\n",
       " ' Riverdale, N.Y., New York City Fire Department, World Trade Center.',\n",
       " 'Walter Baran',\n",
       " ' 42',\n",
       " ' Staten Island, N.Y., Fiduciary Trust Company International, World Trade Center.',\n",
       " 'Gerard A. Barbara',\n",
       " ' 53',\n",
       " ' Staten Island, N.Y., New York City Fire Department, World Trade Center.',\n",
       " 'Paul Vincent Barbaro',\n",
       " ' 35',\n",
       " ' Holmdel, N.J., Cantor Fitzgerald, World Trade Center.',\n",
       " 'James William Barbella',\n",
       " ' 53',\n",
       " ' Oceanside, N.Y., Port Authority of New York and New Jersey first responders, World Trade Center.',\n",
       " 'Victor Daniel Barbosa',\n",
       " ' 23',\n",
       " ' Bronx, N.Y., Top of the World, World Trade Center.',\n",
       " 'Christine Johnna Barbuto',\n",
       " ' 32',\n",
       " ' Brookline, Mass., Passenger, United 11, World Trade Center.',\n",
       " 'Colleen Ann Barkow',\n",
       " ' 26',\n",
       " ' Cantor Fitzgerald, World Trade Center.',\n",
       " 'David Michael Barkway',\n",
       " ' 34',\n",
       " ' Cantor Fitzgerald visitor, World Trade Center.',\n",
       " 'Matthew Barnes',\n",
       " ' 37',\n",
       " ' Monroe, N.Y., New York City Fire Department, World Trade Center.',\n",
       " 'Melissa Rose Barnes',\n",
       " ' 27',\n",
       " ' Virginia, United States Navy, Pentagon.',\n",
       " 'Sheila Patricia Barnes',\n",
       " ' 55',\n",
       " ' Aon Corporation, World Trade Center.',\n",
       " '',\n",
       " '',\n",
       " '\\t\\t\\t\\t\\t\\t\\t\\t\\t\\t4 of 91',\n",
       " '',\n",
       " '',\n",
       " 'Evan Jay Baron',\n",
       " ' 38',\n",
       " ' Bridgewater, N.J., Carr Futures, Inc., World Trade Center.',\n",
       " 'Renee Barrett-Arjune',\n",
       " ' 41',\n",
       " ' Cantor Fitzgerald, World Trade Center, died 10/14/01.',\n",
       " 'Arthur Thaddeus Barry',\n",
       " ' 35',\n",
       " ' Staten Island, N.Y., New York City Fire Department, World Trade Center.',\n",
       " 'Diane G. Barry',\n",
       " ' 60',\n",
       " ' Staten Island, N.Y., Aon Corporation, World Trade Center.',\n",
       " 'Maurice Vincent Barry',\n",
       " ' 48',\n",
       " ' Rutherford, N.J., Port Authority Police Department, World Trade Center.',\n",
       " 'Scott D. Bart',\n",
       " ' 28',\n",
       " ' Malverne, N.Y., Marsh&McLennan Companies, Inc., World Trade Center.',\n",
       " 'Carlton W. Bartels',\n",
       " ' 44',\n",
       " ' Staten Island, N.Y., Cantor Fitzgerald, World Trade Center.',\n",
       " 'Guy Barzvi',\n",
       " ' 29',\n",
       " ' Forest Hills, N.Y., Cantor Fitzgerald, World Trade Center.',\n",
       " 'Inna B. Basina',\n",
       " ' 43',\n",
       " ' Brooklyn, N.Y., Cantor Fitzgerald, World Trade Center.',\n",
       " 'Alysia Christine Burton Basmajian',\n",
       " ' 23',\n",
       " ' Bayonne, N.J., Cantor Fitzgerald, World Trade Center.',\n",
       " 'Kenneth William Basnicki',\n",
       " ' 48',\n",
       " ' Risk Waters Group conference attendee from BEA Systems, Inc., World Trade Center.',\n",
       " 'Steven Joseph Bates',\n",
       " ' 42',\n",
       " ' Glendale, N.Y., New York City Fire Department, World Trade Center.',\n",
       " 'Paul James Battaglia',\n",
       " ' 22',\n",
       " ' Brooklyn, N.Y., Marsh&McLennan Companies, Inc., World Trade Center.',\n",
       " 'W. David Bauer',\n",
       " ' 45',\n",
       " ' Rumson, N.J., Cantor Fitzgerald, World Trade Center.',\n",
       " 'Ivhan Luis Carpio Bautista',\n",
       " ' 24',\n",
       " ' Windows on the World, World Trade Center.',\n",
       " 'Marlyn Capito Bautista',\n",
       " ' 46',\n",
       " ' Iselin, N.J., Marsh&McLennan Companies, Inc., World Trade Center.',\n",
       " 'Mark Lawrence Bavis',\n",
       " ' 31',\n",
       " ' Roslindale, Mass., Passenger, United 175, World Trade Center.',\n",
       " 'Jasper Baxter',\n",
       " ' 45',\n",
       " ' Lee Hecht Harrison, World Trade Center.',\n",
       " 'Lorraine G. Bay',\n",
       " ' 58',\n",
       " ' East Windsor, N.J., Flight Crew, United 93, Shanksville, Pa.',\n",
       " 'Michele Beale',\n",
       " ' 38',\n",
       " ' Essex, England, United Kingdom, Risk Waters Group, World Trade Center.',\n",
       " 'Todd M. Beamer',\n",
       " ' 32',\n",
       " ' Cranbury, N.J., Passenger, United 93, Shanksville, Pa.',\n",
       " 'Paul Frederick Beatini',\n",
       " ' 40',\n",
       " ' Park Ridge, N.J., Aon Corporation visitor, World Trade Center.',\n",
       " 'Jane S. Beatty',\n",
       " ' 53',\n",
       " ' Marsh&McLennan Companies, Inc., World Trade Center.',\n",
       " 'Alan Anthony Beaven',\n",
       " ' 48',\n",
       " ' Oakland, Calif., Passenger, United 93, Shanksville, Pa.',\n",
       " 'Lawrence Ira Beck',\n",
       " ' 38',\n",
       " ' Bellmore, N.Y., Cantor Fitzgerald, World Trade Center.',\n",
       " 'Manette Marie Beckles',\n",
       " ' 43',\n",
       " ' Fiduciary Trust Company International, World Trade Center.',\n",
       " 'Carl John Bedigian',\n",
       " ' 35',\n",
       " ' College Point, N.Y., New York City Fire Department, World Trade Center.',\n",
       " 'Michael Ernest Beekman',\n",
       " ' 39',\n",
       " ' Staten Island, N.Y., New York Stock Exchange, World Trade Center.']"
      ]
     },
     "execution_count": 26,
     "metadata": {},
     "output_type": "execute_result"
    }
   ],
   "source": [
    "with open('911_Deaths.csv') as f:\n",
    "    lines = f.read().split('\\n')\n",
    "lines[:500]"
   ]
  },
  {
   "cell_type": "markdown",
   "metadata": {},
   "source": [
    "## Step 1: Remove any extraneous lines"
   ]
  },
  {
   "cell_type": "code",
   "execution_count": 27,
   "metadata": {},
   "outputs": [
    {
     "data": {
      "text/plain": [
       "['Terrance Andre Aiken',\n",
       " ' 30',\n",
       " ' Marsh&McLennan consultant, World Trade Center.',\n",
       " '',\n",
       " '',\n",
       " '\\t\\t\\t\\t\\t\\t\\t\\t\\t\\t1 of 91',\n",
       " '',\n",
       " '',\n",
       " 'Godwin O. Ajala',\n",
       " ' 33',\n",
       " ' Summit Security Services, Inc., World Trade Center, died 9/15/01.']"
      ]
     },
     "execution_count": 27,
     "metadata": {},
     "output_type": "execute_result"
    }
   ],
   "source": [
    "example_w_extra = lines[96:107]\n",
    "example_w_extra"
   ]
  },
  {
   "cell_type": "markdown",
   "metadata": {},
   "source": [
    "## Methods for removing extra lines.\n",
    "\n",
    "* `strip` and check for a length of 0\n",
    "* Check if some substring is `in` the line.\n",
    "* Create a regular expression to match the line type"
   ]
  },
  {
   "cell_type": "markdown",
   "metadata": {},
   "source": [
    "<h2> <font color=\"red\"> Exercise 4.4.2 </font> </h2>\n",
    "\n",
    "Rewrite a predicate function (i.e. Boolean lambda) called `is_blank` that returns `True` for blank lines and `False` otherwise."
   ]
  },
  {
   "cell_type": "code",
   "execution_count": 28,
   "metadata": {},
   "outputs": [
    {
     "data": {
      "text/plain": [
       "''"
      ]
     },
     "execution_count": 28,
     "metadata": {},
     "output_type": "execute_result"
    }
   ],
   "source": [
    "example_blank_line = lines[99]\n",
    "example_blank_line"
   ]
  },
  {
   "cell_type": "code",
   "execution_count": 29,
   "metadata": {},
   "outputs": [
    {
     "data": {
      "text/plain": [
       "True"
      ]
     },
     "execution_count": 29,
     "metadata": {},
     "output_type": "execute_result"
    }
   ],
   "source": [
    "is_blank = lambda l: True if(len(l.strip()) == 0) else False\n",
    "is_blank(example_blank_line)"
   ]
  },
  {
   "cell_type": "markdown",
   "metadata": {},
   "source": [
    "<h2> <font color=\"red\"> Exercise 4.4.3 </font> </h2>\n",
    "\n",
    "Rewrite a predicate function called `is_page_num_line` that returns `True` for the page number lines and `False` otherwise."
   ]
  },
  {
   "cell_type": "code",
   "execution_count": 30,
   "metadata": {},
   "outputs": [
    {
     "data": {
      "text/plain": [
       "'\\t\\t\\t\\t\\t\\t\\t\\t\\t\\t1 of 91'"
      ]
     },
     "execution_count": 30,
     "metadata": {},
     "output_type": "execute_result"
    }
   ],
   "source": [
    "example_page_num_line = lines[101]\n",
    "example_page_num_line"
   ]
  },
  {
   "cell_type": "code",
   "execution_count": 39,
   "metadata": {},
   "outputs": [
    {
     "data": {
      "text/plain": [
       "True"
      ]
     },
     "execution_count": 39,
     "metadata": {},
     "output_type": "execute_result"
    }
   ],
   "source": [
    "# Your code here\n",
    "is_page_num_line = lambda l: True if('of 91' in l) else False\n",
    "is_page_num_line(example_page_num_line)"
   ]
  },
  {
   "cell_type": "markdown",
   "metadata": {},
   "source": [
    "<h2> <font color=\"red\"> Exercise 4.4.4 </font> </h2>\n",
    "\n",
    "Identify some situation were your approach might fail."
   ]
  },
  {
   "cell_type": "markdown",
   "metadata": {},
   "source": [
    "> If 'of 91' appears anywhere else, this will match"
   ]
  },
  {
   "cell_type": "markdown",
   "metadata": {},
   "source": [
    "## Be as specific as possible\n",
    "\n",
    "When removing lines, be very specific so you don't lose data!"
   ]
  },
  {
   "cell_type": "markdown",
   "metadata": {},
   "source": [
    "<h2> <font color=\"red\"> Exercise 4.4.5 </font> </h2>\n",
    "\n",
    "Complete the following steps."
   ]
  },
  {
   "cell_type": "markdown",
   "metadata": {},
   "source": [
    "#### Describe the pattern in words"
   ]
  },
  {
   "cell_type": "code",
   "execution_count": 40,
   "metadata": {},
   "outputs": [
    {
     "data": {
      "text/plain": [
       "'\\t\\t\\t\\t\\t\\t\\t\\t\\t\\t1 of 91'"
      ]
     },
     "execution_count": 40,
     "metadata": {},
     "output_type": "execute_result"
    }
   ],
   "source": [
    "example_page_num_line = lines[101]\n",
    "example_page_num_line"
   ]
  },
  {
   "cell_type": "markdown",
   "metadata": {},
   "source": [
    "> Has multiple tabs before showing 1 of 91"
   ]
  },
  {
   "cell_type": "markdown",
   "metadata": {},
   "source": [
    "#### Write a regular expression to `match` the problem"
   ]
  },
  {
   "cell_type": "code",
   "execution_count": 41,
   "metadata": {},
   "outputs": [],
   "source": [
    "# Your code here\n",
    "import re\n",
    "#example_w_extra[5]\n",
    "\n",
    "r = re.compile(r'\\t+\\d+ of \\d+')"
   ]
  },
  {
   "cell_type": "markdown",
   "metadata": {},
   "source": [
    "#### Why is `match` better than `search` for this task?"
   ]
  },
  {
   "cell_type": "markdown",
   "metadata": {},
   "source": [
    "> Match is more specific than search and therefore safer"
   ]
  },
  {
   "cell_type": "markdown",
   "metadata": {},
   "source": [
    "## Combining the two predicate functions"
   ]
  },
  {
   "cell_type": "code",
   "execution_count": 42,
   "metadata": {},
   "outputs": [],
   "source": [
    "needs_removal = lambda l: is_blank(l) or is_page_num_line(l)"
   ]
  },
  {
   "cell_type": "code",
   "execution_count": 43,
   "metadata": {},
   "outputs": [
    {
     "data": {
      "text/plain": [
       "[('Terrance Andre Aiken', False),\n",
       " (' 30', False),\n",
       " (' Marsh&McLennan consultant, World Trade Center.', False),\n",
       " ('', True),\n",
       " ('', True),\n",
       " ('\\t\\t\\t\\t\\t\\t\\t\\t\\t\\t1 of 91', True),\n",
       " ('', True),\n",
       " ('', True),\n",
       " ('Godwin O. Ajala', False),\n",
       " (' 33', False),\n",
       " (' Summit Security Services, Inc., World Trade Center, died 9/15/01.', False)]"
      ]
     },
     "execution_count": 43,
     "metadata": {},
     "output_type": "execute_result"
    }
   ],
   "source": [
    "[(l, needs_removal(l)) for l in example_w_extra ]"
   ]
  },
  {
   "cell_type": "markdown",
   "metadata": {},
   "source": [
    "#### Removing the extraneous lines"
   ]
  },
  {
   "cell_type": "code",
   "execution_count": 44,
   "metadata": {
    "scrolled": true
   },
   "outputs": [
    {
     "data": {
      "text/plain": [
       "['Gordon M. Aamoth, Jr.',\n",
       " ' 32',\n",
       " \" Sandler O'Neill + Partners, World Trade Center.\",\n",
       " 'Edelmiro Abad',\n",
       " ' 54',\n",
       " ' Brooklyn, N.Y., Fiduciary Trust Company International, World Trade Center.',\n",
       " 'Marie Rose Abad',\n",
       " ' 49',\n",
       " ' Keefe, Bruyette&Woods, Inc., World Trade Center.',\n",
       " 'Andrew Anthony Abate',\n",
       " ' 37',\n",
       " ' Melville, N.Y., Cantor Fitzgerald, World Trade Center.',\n",
       " 'Vincent Paul Abate',\n",
       " ' 40',\n",
       " ' Brooklyn, N.Y., Cantor Fitzgerald, World Trade Center.',\n",
       " 'Laurence Christopher Abel',\n",
       " ' 37',\n",
       " ' New York City, Cantor Fitzgerald, World Trade Center.',\n",
       " 'Alona Abraham',\n",
       " ' 30',\n",
       " ' Ashdod, Israel, Passenger, United 175, World Trade Center.',\n",
       " 'William F. Abrahamson',\n",
       " ' 55',\n",
       " ' Westchester County, N.Y., Marsh&McLennan Companies, Inc., World Trade Center.',\n",
       " 'Richard Anthony Aceto',\n",
       " ' 42',\n",
       " ' Marsh&McLennan Companies, Inc., World Trade Center.',\n",
       " 'Heinrich Bernhard Ackermann',\n",
       " ' 38',\n",
       " ' Aon Corporation, World Trade Center.',\n",
       " 'Paul Acquaviva',\n",
       " ' 29',\n",
       " ' Glen Rock, N.J., Cantor Fitzgerald, World Trade Center.',\n",
       " 'Christian Adams',\n",
       " ' 37',\n",
       " ' Passenger, United 93, Shanksville, Pa.',\n",
       " 'Donald LaRoy Adams',\n",
       " ' 28',\n",
       " ' Cantor Fitzgerald, World Trade Center.',\n",
       " 'Patrick Adams',\n",
       " ' 61',\n",
       " ' Fuji Bank, Ltd. security, World Trade Center.',\n",
       " 'Shannon Lewis Adams',\n",
       " ' 25',\n",
       " ' Cantor Fitzgerald, World Trade Center.',\n",
       " 'Stephen George Adams',\n",
       " ' 51',\n",
       " ' New York City, Windows on the World, World Trade Center.',\n",
       " 'Ignatius Udo Adanga',\n",
       " ' 62',\n",
       " ' Bronx, N.Y., New York Metropolitan Transportation Council, World Trade Center.',\n",
       " 'Christy A. Addamo',\n",
       " ' 28',\n",
       " ' New Hyde Park, N.Y., Marsh&McLennan Companies, Inc., World Trade Center.',\n",
       " 'Terence Edward Adderley, Jr.',\n",
       " ' 22',\n",
       " ' New York City, Fred Alger Management, Inc., World Trade Center.',\n",
       " 'Sophia B. Addo',\n",
       " ' 36',\n",
       " ' Bronx, N.Y., Windows on the World, World Trade Center.',\n",
       " 'Lee Adler',\n",
       " ' 48',\n",
       " ' Cantor Fitzgerald, World Trade Center.',\n",
       " 'Daniel Thomas Afflitto',\n",
       " ' 32',\n",
       " ' Manalapan, N.J., Cantor Fitzgerald, World Trade Center.',\n",
       " 'Emmanuel Akwasi Afuakwah',\n",
       " ' 37',\n",
       " ' Windows on the World, World Trade Center.',\n",
       " 'Alok Agarwal',\n",
       " ' 36',\n",
       " ' Cantor Fitzgerald, World Trade Center.',\n",
       " 'Mukul Kumar Agarwala',\n",
       " ' 37',\n",
       " ' Fiduciary Trust Company International, World Trade Center.',\n",
       " 'Joseph Agnello',\n",
       " ' 35',\n",
       " ' Belle Harbor, N.Y., New York City Fire Department, World Trade Center.',\n",
       " 'David Scott Agnes',\n",
       " ' 46',\n",
       " ' Port Washington, N.Y., Cantor Fitzgerald, World Trade Center.',\n",
       " 'Joao Alberto da Fonseca Aguiar, Jr.',\n",
       " ' 30',\n",
       " ' Hoboken, N.J., Keefe, Bruyette&Woods, Inc., World Trade Center.',\n",
       " 'Brian G. Ahearn',\n",
       " ' 43',\n",
       " ' Huntington, N.Y., New York City Fire Department, World Trade Center.',\n",
       " 'Jeremiah Joseph Ahern',\n",
       " ' 74',\n",
       " ' New Jersey, New York State Department of Taxation and Finance, World Trade Center.',\n",
       " 'Joanne Marie Ahladiotis',\n",
       " ' 27',\n",
       " ' Forest Hills, N.Y., Cantor Fitzgerald, World Trade Center.',\n",
       " 'Shabbir Ahmed',\n",
       " ' 47',\n",
       " ' Brooklyn, N.Y., Windows on the World, World Trade Center.',\n",
       " 'Terrance Andre Aiken',\n",
       " ' 30',\n",
       " ' Marsh&McLennan consultant, World Trade Center.',\n",
       " 'Godwin O. Ajala']"
      ]
     },
     "execution_count": 44,
     "metadata": {},
     "output_type": "execute_result"
    }
   ],
   "source": [
    "#This one is not better\n",
    "culled_lines = [l for l in lines if not needs_removal(l)]\n",
    "culled_lines[:100]"
   ]
  },
  {
   "cell_type": "code",
   "execution_count": 45,
   "metadata": {
    "scrolled": true
   },
   "outputs": [
    {
     "data": {
      "text/plain": [
       "['Gordon M. Aamoth, Jr.',\n",
       " ' 32',\n",
       " \" Sandler O'Neill + Partners, World Trade Center.\",\n",
       " 'Edelmiro Abad',\n",
       " ' 54',\n",
       " ' Brooklyn, N.Y., Fiduciary Trust Company International, World Trade Center.',\n",
       " 'Marie Rose Abad',\n",
       " ' 49',\n",
       " ' Keefe, Bruyette&Woods, Inc., World Trade Center.',\n",
       " 'Andrew Anthony Abate',\n",
       " ' 37',\n",
       " ' Melville, N.Y., Cantor Fitzgerald, World Trade Center.',\n",
       " 'Vincent Paul Abate',\n",
       " ' 40',\n",
       " ' Brooklyn, N.Y., Cantor Fitzgerald, World Trade Center.',\n",
       " 'Laurence Christopher Abel',\n",
       " ' 37',\n",
       " ' New York City, Cantor Fitzgerald, World Trade Center.',\n",
       " 'Alona Abraham',\n",
       " ' 30',\n",
       " ' Ashdod, Israel, Passenger, United 175, World Trade Center.',\n",
       " 'William F. Abrahamson',\n",
       " ' 55',\n",
       " ' Westchester County, N.Y., Marsh&McLennan Companies, Inc., World Trade Center.',\n",
       " 'Richard Anthony Aceto',\n",
       " ' 42',\n",
       " ' Marsh&McLennan Companies, Inc., World Trade Center.',\n",
       " 'Heinrich Bernhard Ackermann',\n",
       " ' 38',\n",
       " ' Aon Corporation, World Trade Center.',\n",
       " 'Paul Acquaviva',\n",
       " ' 29',\n",
       " ' Glen Rock, N.J., Cantor Fitzgerald, World Trade Center.',\n",
       " 'Christian Adams',\n",
       " ' 37',\n",
       " ' Passenger, United 93, Shanksville, Pa.',\n",
       " 'Donald LaRoy Adams',\n",
       " ' 28',\n",
       " ' Cantor Fitzgerald, World Trade Center.',\n",
       " 'Patrick Adams',\n",
       " ' 61',\n",
       " ' Fuji Bank, Ltd. security, World Trade Center.',\n",
       " 'Shannon Lewis Adams',\n",
       " ' 25',\n",
       " ' Cantor Fitzgerald, World Trade Center.',\n",
       " 'Stephen George Adams',\n",
       " ' 51',\n",
       " ' New York City, Windows on the World, World Trade Center.',\n",
       " 'Ignatius Udo Adanga',\n",
       " ' 62',\n",
       " ' Bronx, N.Y., New York Metropolitan Transportation Council, World Trade Center.',\n",
       " 'Christy A. Addamo',\n",
       " ' 28',\n",
       " ' New Hyde Park, N.Y., Marsh&McLennan Companies, Inc., World Trade Center.',\n",
       " 'Terence Edward Adderley, Jr.',\n",
       " ' 22',\n",
       " ' New York City, Fred Alger Management, Inc., World Trade Center.',\n",
       " 'Sophia B. Addo',\n",
       " ' 36',\n",
       " ' Bronx, N.Y., Windows on the World, World Trade Center.',\n",
       " 'Lee Adler',\n",
       " ' 48',\n",
       " ' Cantor Fitzgerald, World Trade Center.',\n",
       " 'Daniel Thomas Afflitto',\n",
       " ' 32',\n",
       " ' Manalapan, N.J., Cantor Fitzgerald, World Trade Center.',\n",
       " 'Emmanuel Akwasi Afuakwah',\n",
       " ' 37',\n",
       " ' Windows on the World, World Trade Center.',\n",
       " 'Alok Agarwal',\n",
       " ' 36',\n",
       " ' Cantor Fitzgerald, World Trade Center.',\n",
       " 'Mukul Kumar Agarwala',\n",
       " ' 37',\n",
       " ' Fiduciary Trust Company International, World Trade Center.',\n",
       " 'Joseph Agnello',\n",
       " ' 35',\n",
       " ' Belle Harbor, N.Y., New York City Fire Department, World Trade Center.',\n",
       " 'David Scott Agnes',\n",
       " ' 46',\n",
       " ' Port Washington, N.Y., Cantor Fitzgerald, World Trade Center.',\n",
       " 'Joao Alberto da Fonseca Aguiar, Jr.',\n",
       " ' 30',\n",
       " ' Hoboken, N.J., Keefe, Bruyette&Woods, Inc., World Trade Center.',\n",
       " 'Brian G. Ahearn',\n",
       " ' 43',\n",
       " ' Huntington, N.Y., New York City Fire Department, World Trade Center.',\n",
       " 'Jeremiah Joseph Ahern',\n",
       " ' 74',\n",
       " ' New Jersey, New York State Department of Taxation and Finance, World Trade Center.',\n",
       " 'Joanne Marie Ahladiotis',\n",
       " ' 27',\n",
       " ' Forest Hills, N.Y., Cantor Fitzgerald, World Trade Center.',\n",
       " 'Shabbir Ahmed',\n",
       " ' 47',\n",
       " ' Brooklyn, N.Y., Windows on the World, World Trade Center.',\n",
       " 'Terrance Andre Aiken',\n",
       " ' 30',\n",
       " ' Marsh&McLennan consultant, World Trade Center.',\n",
       " 'Godwin O. Ajala']"
      ]
     },
     "execution_count": 45,
     "metadata": {},
     "output_type": "execute_result"
    }
   ],
   "source": [
    "keep_line = lambda l: not needs_removal(l)\n",
    "culled_lines = [l for l in lines if keep_line(l)]\n",
    "culled_lines[:100]"
   ]
  },
  {
   "cell_type": "markdown",
   "metadata": {},
   "source": [
    "## Which reads better?"
   ]
  },
  {
   "cell_type": "code",
   "execution_count": 46,
   "metadata": {},
   "outputs": [],
   "source": [
    "culled_lines = [l for l in lines if not needs_removal(l)]\n",
    "culled_lines = [l for l in lines if keep_line(l)]"
   ]
  },
  {
   "cell_type": "markdown",
   "metadata": {},
   "source": [
    "#### Make it a function!"
   ]
  },
  {
   "cell_type": "code",
   "execution_count": 47,
   "metadata": {},
   "outputs": [],
   "source": [
    "culled_lines = [l for l in lines if keep_line(l)]"
   ]
  },
  {
   "cell_type": "code",
   "execution_count": 48,
   "metadata": {},
   "outputs": [
    {
     "name": "stdout",
     "output_type": "stream",
     "text": [
      "Requirement already satisfied: composable in /Users/dm6258xw/opt/anaconda3/lib/python3.8/site-packages (0.2.4)\n",
      "Requirement already satisfied: toolz<0.12.0,>=0.11.1 in /Users/dm6258xw/opt/anaconda3/lib/python3.8/site-packages (from composable) (0.11.1)\n",
      "Requirement already satisfied: python-forge<19.0,>=18.6 in /Users/dm6258xw/opt/anaconda3/lib/python3.8/site-packages (from composable) (18.6.0)\n"
     ]
    },
    {
     "data": {
      "text/plain": [
       "['Gordon M. Aamoth, Jr.',\n",
       " ' 32',\n",
       " \" Sandler O'Neill + Partners, World Trade Center.\",\n",
       " 'Edelmiro Abad',\n",
       " ' 54']"
      ]
     },
     "execution_count": 48,
     "metadata": {},
     "output_type": "execute_result"
    }
   ],
   "source": [
    "# Key\n",
    "!pip install composable\n",
    "from composable import pipeable\n",
    "cull_lines = pipeable(lambda L: [l for l in L if keep_line(l)])\n",
    "culled_lines = cull_lines(lines)\n",
    "culled_lines[:5]"
   ]
  },
  {
   "cell_type": "markdown",
   "metadata": {},
   "source": [
    "# Clean Code Rule\n",
    "\n",
    "### *When writing Boolean expressions, avoid negatives whenever possible.*"
   ]
  },
  {
   "cell_type": "markdown",
   "metadata": {},
   "source": [
    "<h2> <font color=\"red\"> Exercise 4.4.5 -- Saving our work </font> </h2>\n",
    "\n",
    "Now we will save our work by writing our progress to a text file.\n",
    "\n",
    "Complete the following steps."
   ]
  },
  {
   "cell_type": "markdown",
   "metadata": {},
   "source": [
    "#### Step 1 -- `'\\n'` join the `culled_lines`"
   ]
  },
  {
   "cell_type": "code",
   "execution_count": 53,
   "metadata": {},
   "outputs": [
    {
     "data": {
      "text/plain": [
       "\"Gordon M. Aamoth, Jr.\\n 32\\n Sandler O'Neill + Partners, World Trade Center.\\nEdelmiro Abad\\n 54\\n Brookl\""
      ]
     },
     "execution_count": 53,
     "metadata": {},
     "output_type": "execute_result"
    }
   ],
   "source": [
    "# Your code here\n",
    "res = '\\n'.join(culled_lines)\n",
    "res[:100]"
   ]
  },
  {
   "cell_type": "markdown",
   "metadata": {},
   "source": [
    "#### Step 2 -- Write the string to a file called `911_deaths_extra_removed.csv`"
   ]
  },
  {
   "cell_type": "code",
   "execution_count": 55,
   "metadata": {},
   "outputs": [],
   "source": [
    "# Your code here\n",
    "with open('911_deaths_extra_removed_my_copy.csv', 'w') as outfile:\n",
    "    outfile.write(res)"
   ]
  },
  {
   "cell_type": "code",
   "execution_count": null,
   "metadata": {},
   "outputs": [],
   "source": []
  }
 ],
 "metadata": {
  "kernelspec": {
   "display_name": "Python 3",
   "language": "python",
   "name": "python3"
  },
  "language_info": {
   "codemirror_mode": {
    "name": "ipython",
    "version": 3
   },
   "file_extension": ".py",
   "mimetype": "text/x-python",
   "name": "python",
   "nbconvert_exporter": "python",
   "pygments_lexer": "ipython3",
   "version": "3.8.3"
  }
 },
 "nbformat": 4,
 "nbformat_minor": 2
}
